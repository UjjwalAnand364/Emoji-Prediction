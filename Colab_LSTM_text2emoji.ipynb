{
  "cells": [
    {
      "cell_type": "code",
      "execution_count": 1,
      "metadata": {
        "id": "QZsPUmC4RVWo"
      },
      "outputs": [],
      "source": [
        "import numpy as np\n",
        "import pandas as pd\n",
        "\n",
        "from keras.models import Sequential\n",
        "from keras.layers import Dense, LSTM, SimpleRNN, Embedding\n",
        "from keras.preprocessing.text import Tokenizer\n",
        "from keras.utils import pad_sequences\n",
        "from keras.utils import to_categorical\n"
      ]
    },
    {
      "cell_type": "code",
      "execution_count": 47,
      "metadata": {
        "colab": {
          "base_uri": "https://localhost:8080/",
          "height": 423
        },
        "id": "0Mh6y-EBRVWs",
        "outputId": "abc403ae-0bd0-49e0-cd32-128624bf2418"
      },
      "outputs": [
        {
          "output_type": "execute_result",
          "data": {
            "text/plain": [
              "                                                       1   2\n",
              "1      Vacation wasted ! #vacation2017 #photobomb #ti...   0\n",
              "2      Oh Wynwood, you’re so funny! : @user #Wynwood ...   1\n",
              "3      Been friends since 7th grade. Look at us now w...   2\n",
              "4      This is what it looks like when someone loves ...   3\n",
              "5      RT @user this white family was invited to a Bl...   3\n",
              "...                                                  ...  ..\n",
              "69996  Yes, I call Galina \"my Bubie\" Go follow my bea...   3\n",
              "69997    I SEA you, Seattle @ Ballard Seafood Festival\\n  16\n",
              "69998  If one of my daughters is wearing this and ask...   2\n",
              "69999  Guess who whoop people on THEIR homecoming?! #...   3\n",
              "70000  We Love you Robbie @ Heritage Memorial Cemeter...  14\n",
              "\n",
              "[70000 rows x 2 columns]"
            ],
            "text/html": [
              "\n",
              "  <div id=\"df-cc46f4d2-85fa-49b1-8e56-c53d729a8d3a\" class=\"colab-df-container\">\n",
              "    <div>\n",
              "<style scoped>\n",
              "    .dataframe tbody tr th:only-of-type {\n",
              "        vertical-align: middle;\n",
              "    }\n",
              "\n",
              "    .dataframe tbody tr th {\n",
              "        vertical-align: top;\n",
              "    }\n",
              "\n",
              "    .dataframe thead th {\n",
              "        text-align: right;\n",
              "    }\n",
              "</style>\n",
              "<table border=\"1\" class=\"dataframe\">\n",
              "  <thead>\n",
              "    <tr style=\"text-align: right;\">\n",
              "      <th></th>\n",
              "      <th>1</th>\n",
              "      <th>2</th>\n",
              "    </tr>\n",
              "  </thead>\n",
              "  <tbody>\n",
              "    <tr>\n",
              "      <th>1</th>\n",
              "      <td>Vacation wasted ! #vacation2017 #photobomb #ti...</td>\n",
              "      <td>0</td>\n",
              "    </tr>\n",
              "    <tr>\n",
              "      <th>2</th>\n",
              "      <td>Oh Wynwood, you’re so funny! : @user #Wynwood ...</td>\n",
              "      <td>1</td>\n",
              "    </tr>\n",
              "    <tr>\n",
              "      <th>3</th>\n",
              "      <td>Been friends since 7th grade. Look at us now w...</td>\n",
              "      <td>2</td>\n",
              "    </tr>\n",
              "    <tr>\n",
              "      <th>4</th>\n",
              "      <td>This is what it looks like when someone loves ...</td>\n",
              "      <td>3</td>\n",
              "    </tr>\n",
              "    <tr>\n",
              "      <th>5</th>\n",
              "      <td>RT @user this white family was invited to a Bl...</td>\n",
              "      <td>3</td>\n",
              "    </tr>\n",
              "    <tr>\n",
              "      <th>...</th>\n",
              "      <td>...</td>\n",
              "      <td>...</td>\n",
              "    </tr>\n",
              "    <tr>\n",
              "      <th>69996</th>\n",
              "      <td>Yes, I call Galina \"my Bubie\" Go follow my bea...</td>\n",
              "      <td>3</td>\n",
              "    </tr>\n",
              "    <tr>\n",
              "      <th>69997</th>\n",
              "      <td>I SEA you, Seattle @ Ballard Seafood Festival\\n</td>\n",
              "      <td>16</td>\n",
              "    </tr>\n",
              "    <tr>\n",
              "      <th>69998</th>\n",
              "      <td>If one of my daughters is wearing this and ask...</td>\n",
              "      <td>2</td>\n",
              "    </tr>\n",
              "    <tr>\n",
              "      <th>69999</th>\n",
              "      <td>Guess who whoop people on THEIR homecoming?! #...</td>\n",
              "      <td>3</td>\n",
              "    </tr>\n",
              "    <tr>\n",
              "      <th>70000</th>\n",
              "      <td>We Love you Robbie @ Heritage Memorial Cemeter...</td>\n",
              "      <td>14</td>\n",
              "    </tr>\n",
              "  </tbody>\n",
              "</table>\n",
              "<p>70000 rows × 2 columns</p>\n",
              "</div>\n",
              "    <div class=\"colab-df-buttons\">\n",
              "\n",
              "  <div class=\"colab-df-container\">\n",
              "    <button class=\"colab-df-convert\" onclick=\"convertToInteractive('df-cc46f4d2-85fa-49b1-8e56-c53d729a8d3a')\"\n",
              "            title=\"Convert this dataframe to an interactive table.\"\n",
              "            style=\"display:none;\">\n",
              "\n",
              "  <svg xmlns=\"http://www.w3.org/2000/svg\" height=\"24px\" viewBox=\"0 -960 960 960\">\n",
              "    <path d=\"M120-120v-720h720v720H120Zm60-500h600v-160H180v160Zm220 220h160v-160H400v160Zm0 220h160v-160H400v160ZM180-400h160v-160H180v160Zm440 0h160v-160H620v160ZM180-180h160v-160H180v160Zm440 0h160v-160H620v160Z\"/>\n",
              "  </svg>\n",
              "    </button>\n",
              "\n",
              "  <style>\n",
              "    .colab-df-container {\n",
              "      display:flex;\n",
              "      gap: 12px;\n",
              "    }\n",
              "\n",
              "    .colab-df-convert {\n",
              "      background-color: #E8F0FE;\n",
              "      border: none;\n",
              "      border-radius: 50%;\n",
              "      cursor: pointer;\n",
              "      display: none;\n",
              "      fill: #1967D2;\n",
              "      height: 32px;\n",
              "      padding: 0 0 0 0;\n",
              "      width: 32px;\n",
              "    }\n",
              "\n",
              "    .colab-df-convert:hover {\n",
              "      background-color: #E2EBFA;\n",
              "      box-shadow: 0px 1px 2px rgba(60, 64, 67, 0.3), 0px 1px 3px 1px rgba(60, 64, 67, 0.15);\n",
              "      fill: #174EA6;\n",
              "    }\n",
              "\n",
              "    .colab-df-buttons div {\n",
              "      margin-bottom: 4px;\n",
              "    }\n",
              "\n",
              "    [theme=dark] .colab-df-convert {\n",
              "      background-color: #3B4455;\n",
              "      fill: #D2E3FC;\n",
              "    }\n",
              "\n",
              "    [theme=dark] .colab-df-convert:hover {\n",
              "      background-color: #434B5C;\n",
              "      box-shadow: 0px 1px 3px 1px rgba(0, 0, 0, 0.15);\n",
              "      filter: drop-shadow(0px 1px 2px rgba(0, 0, 0, 0.3));\n",
              "      fill: #FFFFFF;\n",
              "    }\n",
              "  </style>\n",
              "\n",
              "    <script>\n",
              "      const buttonEl =\n",
              "        document.querySelector('#df-cc46f4d2-85fa-49b1-8e56-c53d729a8d3a button.colab-df-convert');\n",
              "      buttonEl.style.display =\n",
              "        google.colab.kernel.accessAllowed ? 'block' : 'none';\n",
              "\n",
              "      async function convertToInteractive(key) {\n",
              "        const element = document.querySelector('#df-cc46f4d2-85fa-49b1-8e56-c53d729a8d3a');\n",
              "        const dataTable =\n",
              "          await google.colab.kernel.invokeFunction('convertToInteractive',\n",
              "                                                    [key], {});\n",
              "        if (!dataTable) return;\n",
              "\n",
              "        const docLinkHtml = 'Like what you see? Visit the ' +\n",
              "          '<a target=\"_blank\" href=https://colab.research.google.com/notebooks/data_table.ipynb>data table notebook</a>'\n",
              "          + ' to learn more about interactive tables.';\n",
              "        element.innerHTML = '';\n",
              "        dataTable['output_type'] = 'display_data';\n",
              "        await google.colab.output.renderOutput(dataTable, element);\n",
              "        const docLink = document.createElement('div');\n",
              "        docLink.innerHTML = docLinkHtml;\n",
              "        element.appendChild(docLink);\n",
              "      }\n",
              "    </script>\n",
              "  </div>\n",
              "\n",
              "\n",
              "<div id=\"df-82f9a4bd-7ad1-4502-8f0f-654217a93200\">\n",
              "  <button class=\"colab-df-quickchart\" onclick=\"quickchart('df-82f9a4bd-7ad1-4502-8f0f-654217a93200')\"\n",
              "            title=\"Suggest charts.\"\n",
              "            style=\"display:none;\">\n",
              "\n",
              "<svg xmlns=\"http://www.w3.org/2000/svg\" height=\"24px\"viewBox=\"0 0 24 24\"\n",
              "     width=\"24px\">\n",
              "    <g>\n",
              "        <path d=\"M19 3H5c-1.1 0-2 .9-2 2v14c0 1.1.9 2 2 2h14c1.1 0 2-.9 2-2V5c0-1.1-.9-2-2-2zM9 17H7v-7h2v7zm4 0h-2V7h2v10zm4 0h-2v-4h2v4z\"/>\n",
              "    </g>\n",
              "</svg>\n",
              "  </button>\n",
              "\n",
              "<style>\n",
              "  .colab-df-quickchart {\n",
              "      --bg-color: #E8F0FE;\n",
              "      --fill-color: #1967D2;\n",
              "      --hover-bg-color: #E2EBFA;\n",
              "      --hover-fill-color: #174EA6;\n",
              "      --disabled-fill-color: #AAA;\n",
              "      --disabled-bg-color: #DDD;\n",
              "  }\n",
              "\n",
              "  [theme=dark] .colab-df-quickchart {\n",
              "      --bg-color: #3B4455;\n",
              "      --fill-color: #D2E3FC;\n",
              "      --hover-bg-color: #434B5C;\n",
              "      --hover-fill-color: #FFFFFF;\n",
              "      --disabled-bg-color: #3B4455;\n",
              "      --disabled-fill-color: #666;\n",
              "  }\n",
              "\n",
              "  .colab-df-quickchart {\n",
              "    background-color: var(--bg-color);\n",
              "    border: none;\n",
              "    border-radius: 50%;\n",
              "    cursor: pointer;\n",
              "    display: none;\n",
              "    fill: var(--fill-color);\n",
              "    height: 32px;\n",
              "    padding: 0;\n",
              "    width: 32px;\n",
              "  }\n",
              "\n",
              "  .colab-df-quickchart:hover {\n",
              "    background-color: var(--hover-bg-color);\n",
              "    box-shadow: 0 1px 2px rgba(60, 64, 67, 0.3), 0 1px 3px 1px rgba(60, 64, 67, 0.15);\n",
              "    fill: var(--button-hover-fill-color);\n",
              "  }\n",
              "\n",
              "  .colab-df-quickchart-complete:disabled,\n",
              "  .colab-df-quickchart-complete:disabled:hover {\n",
              "    background-color: var(--disabled-bg-color);\n",
              "    fill: var(--disabled-fill-color);\n",
              "    box-shadow: none;\n",
              "  }\n",
              "\n",
              "  .colab-df-spinner {\n",
              "    border: 2px solid var(--fill-color);\n",
              "    border-color: transparent;\n",
              "    border-bottom-color: var(--fill-color);\n",
              "    animation:\n",
              "      spin 1s steps(1) infinite;\n",
              "  }\n",
              "\n",
              "  @keyframes spin {\n",
              "    0% {\n",
              "      border-color: transparent;\n",
              "      border-bottom-color: var(--fill-color);\n",
              "      border-left-color: var(--fill-color);\n",
              "    }\n",
              "    20% {\n",
              "      border-color: transparent;\n",
              "      border-left-color: var(--fill-color);\n",
              "      border-top-color: var(--fill-color);\n",
              "    }\n",
              "    30% {\n",
              "      border-color: transparent;\n",
              "      border-left-color: var(--fill-color);\n",
              "      border-top-color: var(--fill-color);\n",
              "      border-right-color: var(--fill-color);\n",
              "    }\n",
              "    40% {\n",
              "      border-color: transparent;\n",
              "      border-right-color: var(--fill-color);\n",
              "      border-top-color: var(--fill-color);\n",
              "    }\n",
              "    60% {\n",
              "      border-color: transparent;\n",
              "      border-right-color: var(--fill-color);\n",
              "    }\n",
              "    80% {\n",
              "      border-color: transparent;\n",
              "      border-right-color: var(--fill-color);\n",
              "      border-bottom-color: var(--fill-color);\n",
              "    }\n",
              "    90% {\n",
              "      border-color: transparent;\n",
              "      border-bottom-color: var(--fill-color);\n",
              "    }\n",
              "  }\n",
              "</style>\n",
              "\n",
              "  <script>\n",
              "    async function quickchart(key) {\n",
              "      const quickchartButtonEl =\n",
              "        document.querySelector('#' + key + ' button');\n",
              "      quickchartButtonEl.disabled = true;  // To prevent multiple clicks.\n",
              "      quickchartButtonEl.classList.add('colab-df-spinner');\n",
              "      try {\n",
              "        const charts = await google.colab.kernel.invokeFunction(\n",
              "            'suggestCharts', [key], {});\n",
              "      } catch (error) {\n",
              "        console.error('Error during call to suggestCharts:', error);\n",
              "      }\n",
              "      quickchartButtonEl.classList.remove('colab-df-spinner');\n",
              "      quickchartButtonEl.classList.add('colab-df-quickchart-complete');\n",
              "    }\n",
              "    (() => {\n",
              "      let quickchartButtonEl =\n",
              "        document.querySelector('#df-82f9a4bd-7ad1-4502-8f0f-654217a93200 button');\n",
              "      quickchartButtonEl.style.display =\n",
              "        google.colab.kernel.accessAllowed ? 'block' : 'none';\n",
              "    })();\n",
              "  </script>\n",
              "</div>\n",
              "    </div>\n",
              "  </div>\n"
            ]
          },
          "metadata": {},
          "execution_count": 47
        }
      ],
      "source": [
        "# data=pd.read_csv(r'emoji_data.csv',header=None)\n",
        "data=pd.read_csv(r'Train.csv',header=None)\n",
        "data=data.drop(0,axis=1)\n",
        "data=data.drop(0,axis=0)\n",
        "data"
      ]
    },
    {
      "cell_type": "code",
      "execution_count": 41,
      "metadata": {
        "colab": {
          "base_uri": "https://localhost:8080/"
        },
        "id": "WH7iBK1KRVWw",
        "outputId": "50c3302f-a0d5-4eeb-fe78-78cb5bbfa005"
      },
      "outputs": [
        {
          "output_type": "stream",
          "name": "stdout",
          "text": [
            "Requirement already satisfied: emoji in /usr/local/lib/python3.10/dist-packages (2.8.0)\n",
            "❤️\n",
            "{0: '😜', 1: '📸', 2: '😍', 3: '😂', 4: '😉', 5: '🎄', 6: '📷', 7: '🔥', 8: '😘', 9: '❤', 10: '😁', 11: '🇺🇸', 12: '☀', 13: '✨', 14: '💙', 15: '💕', 16: '😎', 17: '😊', 18: '💜', 19: '💯'}\n"
          ]
        }
      ],
      "source": [
        "!pip install emoji\n",
        "import emoji\n",
        "print(emoji.emojize(\":red_heart:\"))\n",
        "\n",
        "# emoji_dict={\n",
        "#     0: \":red_heart:\",\n",
        "#     1: \":baseball:\",\n",
        "#     2: \":grinning_face_with_big_eyes:\",\n",
        "#     3: \":disappointed_face:\",\n",
        "#     4: \":fork_and_knife_with_plate:\"\n",
        "# }\n",
        "\n",
        "df=pd.read_csv('Mapping.csv')\n",
        "emoji_dict={}\n",
        "for i in range(len(df.index)):\n",
        "  key=df['number'][i]\n",
        "  value=df[\"emoticons\"][i]\n",
        "  emoji_dict[key]=value\n",
        "print(emoji_dict)\n",
        "\n",
        "def label_to_emoji(label):\n",
        "    return emoji.emojize(emoji_dict[label])\n"
      ]
    },
    {
      "cell_type": "code",
      "execution_count": 48,
      "metadata": {
        "colab": {
          "base_uri": "https://localhost:8080/"
        },
        "id": "Ijr9YhU0RVWx",
        "outputId": "e1226ce5-4f2b-4bcb-a2d5-3b6f6cd83232"
      },
      "outputs": [
        {
          "output_type": "execute_result",
          "data": {
            "text/plain": [
              "array([ 0,  1,  2, ...,  2,  3, 14])"
            ]
          },
          "metadata": {},
          "execution_count": 48
        }
      ],
      "source": [
        "X=data[1].values\n",
        "y=data[2].values\n",
        "Y=[]\n",
        "for item in y:\n",
        "    Y.append(int(item))\n",
        "Y=np.asarray(Y)\n",
        "Y"
      ]
    },
    {
      "cell_type": "markdown",
      "metadata": {
        "id": "tELYsSW1RVWy"
      },
      "source": [
        "Embeddings"
      ]
    },
    {
      "cell_type": "code",
      "source": [
        "from google.colab import drive\n",
        "drive.mount('/content/drive')"
      ],
      "metadata": {
        "colab": {
          "base_uri": "https://localhost:8080/"
        },
        "id": "kqt0HmHidZrg",
        "outputId": "4a3bc6e0-95e0-4f8d-f332-43f43e000306"
      },
      "execution_count": 8,
      "outputs": [
        {
          "output_type": "stream",
          "name": "stdout",
          "text": [
            "Mounted at /content/drive\n"
          ]
        }
      ]
    },
    {
      "cell_type": "code",
      "execution_count": 9,
      "metadata": {
        "colab": {
          "base_uri": "https://localhost:8080/"
        },
        "id": "0HCiuvo3RVW3",
        "outputId": "dfd140cd-0435-48ad-ed14-f8caab2a6832"
      },
      "outputs": [
        {
          "output_type": "execute_result",
          "data": {
            "text/plain": [
              "['the -0.038194 -0.24487 0.72812 -0.39961 0.083172 0.043953 -0.39141 0.3344 -0.57545 0.087459 0.28787 -0.06731 0.30906 -0.26384 -0.13231 -0.20757 0.33395 -0.33848 -0.31743 -0.48336 0.1464 -0.37304 0.34577 0.052041 0.44946 -0.46971 0.02628 -0.54155 -0.15518 -0.14107 -0.039722 0.28277 0.14393 0.23464 -0.31021 0.086173 0.20397 0.52624 0.17164 -0.082378 -0.71787 -0.41531 0.20335 -0.12763 0.41367 0.55187 0.57908 -0.33477 -0.36559 -0.54857 -0.062892 0.26584 0.30205 0.99775 -0.80481 -3.0243 0.01254 -0.36942 2.2167 0.72201 -0.24978 0.92136 0.034514 0.46745 1.1079 -0.19358 -0.074575 0.23353 -0.052062 -0.22044 0.057162 -0.15806 -0.30798 -0.41625 0.37972 0.15006 -0.53212 -0.2055 -1.2526 0.071624 0.70565 0.49744 -0.42063 0.26148 -1.538 -0.30223 -0.073438 -0.28312 0.37104 -0.25217 0.016215 -0.017099 -0.38984 0.87424 -0.72569 -0.51058 -0.52028 -0.1459 0.8278 0.27062\\n',\n",
              " ', -0.10767 0.11053 0.59812 -0.54361 0.67396 0.10663 0.038867 0.35481 0.06351 -0.094189 0.15786 -0.81665 0.14172 0.21939 0.58505 -0.52158 0.22783 -0.16642 -0.68228 0.3587 0.42568 0.19021 0.91963 0.57555 0.46185 0.42363 -0.095399 -0.42749 -0.16567 -0.056842 -0.29595 0.26037 -0.26606 -0.070404 -0.27662 0.15821 0.69825 0.43081 0.27952 -0.45437 -0.33801 -0.58184 0.22364 -0.5778 -0.26862 -0.20425 0.56394 -0.58524 -0.14365 -0.64218 0.0054697 -0.35248 0.16162 1.1796 -0.47674 -2.7553 -0.1321 -0.047729 1.0655 1.1034 -0.2208 0.18669 0.13177 0.15117 0.7131 -0.35215 0.91348 0.61783 0.70992 0.23955 -0.14571 -0.37859 -0.045959 -0.47368 0.2385 0.20536 -0.18996 0.32507 -1.1112 -0.36341 0.98679 -0.084776 -0.54008 0.11726 -1.0194 -0.24424 0.12771 0.013884 0.080374 -0.35414 0.34951 -0.7226 0.37549 0.4441 -0.99059 0.61214 -0.35111 -0.83155 0.45293 0.082577\\n',\n",
              " '. -0.33979 0.20941 0.46348 -0.64792 -0.38377 0.038034 0.17127 0.15978 0.46619 -0.019169 0.41479 -0.34349 0.26872 0.04464 0.42131 -0.41032 0.15459 0.022239 -0.64653 0.25256 0.043136 -0.19445 0.46516 0.45651 0.68588 0.091295 0.21875 -0.70351 0.16785 -0.35079 -0.12634 0.66384 -0.2582 0.036542 -0.13605 0.40253 0.14289 0.38132 -0.12283 -0.45886 -0.25282 -0.30432 -0.11215 -0.26182 -0.22482 -0.44554 0.2991 -0.85612 -0.14503 -0.49086 0.0082973 -0.17491 0.27524 1.4401 -0.21239 -2.8435 -0.27958 -0.45722 1.6386 0.78808 -0.55262 0.65 0.086426 0.39012 1.0632 -0.35379 0.48328 0.346 0.84174 0.098707 -0.24213 -0.27053 0.045287 -0.40147 0.11395 0.0062226 0.036673 0.018518 -1.0213 -0.20806 0.64072 -0.068763 -0.58635 0.33476 -1.1432 -0.1148 -0.25091 -0.45907 -0.096819 -0.17946 -0.063351 -0.67412 -0.068895 0.53604 -0.87773 0.31802 -0.39242 -0.23394 0.47298 -0.028803\\n',\n",
              " 'of -0.1529 -0.24279 0.89837 0.16996 0.53516 0.48784 -0.58826 -0.17982 -1.3581 0.42541 0.15377 0.24215 0.13474 0.41193 0.67043 -0.56418 0.42985 -0.012183 -0.11677 0.31781 0.054177 -0.054273 0.35516 -0.30241 0.31434 -0.33846 0.71715 -0.26855 -0.15837 -0.47467 0.051581 -0.33252 0.15003 -0.1299 -0.54617 -0.37843 0.64261 0.82187 -0.080006 0.078479 -0.96976 -0.57741 0.56491 -0.39873 -0.057099 0.19743 0.065706 -0.48092 -0.20125 -0.40834 0.39456 -0.02642 -0.11838 1.012 -0.53171 -2.7474 -0.042981 -0.74849 1.7574 0.59085 0.04885 0.78267 0.38497 0.42097 0.67882 0.10337 0.6328 -0.026595 0.58647 -0.44332 0.33057 -0.12022 -0.55645 0.073611 0.20915 0.43395 -0.012761 0.089874 -1.7991 0.084808 0.77112 0.63105 -0.90685 0.60326 -1.7515 0.18596 -0.50687 -0.70203 0.66578 -0.81304 0.18712 -0.018488 -0.26757 0.727 -0.59363 -0.34839 -0.56094 -0.591 1.0039 0.20664\\n']"
            ]
          },
          "metadata": {},
          "execution_count": 9
        }
      ],
      "source": [
        "file=open(r'/content/drive/MyDrive/glove.6B.100d.txt','r',encoding='utf8')\n",
        "content=file.readlines()\n",
        "file.close()\n",
        "content[:4]\n"
      ]
    },
    {
      "cell_type": "code",
      "execution_count": 100,
      "metadata": {
        "id": "YntlxV-HRVW4"
      },
      "outputs": [],
      "source": [
        "\n",
        "embeddings={}\n",
        "for line in content:\n",
        "    line=line.split()\n",
        "    embeddings[line[0]]=np.array(line[1:])\n",
        "# embeddings\n"
      ]
    },
    {
      "cell_type": "code",
      "execution_count": 49,
      "metadata": {
        "id": "fMGymrsCRVW5"
      },
      "outputs": [],
      "source": [
        "tokenizer=Tokenizer()\n",
        "tokenizer.fit_on_texts(X)\n",
        "word2index=tokenizer.word_index\n",
        "\n",
        "xtokens=tokenizer.texts_to_sequences(X)\n",
        "# xtokens"
      ]
    },
    {
      "cell_type": "code",
      "execution_count": 50,
      "metadata": {
        "colab": {
          "base_uri": "https://localhost:8080/"
        },
        "id": "x2CfFe13RVW6",
        "outputId": "b58da085-65a8-4eaf-86d7-891cc817e6c8"
      },
      "outputs": [
        {
          "output_type": "stream",
          "name": "stdout",
          "text": [
            "36\n"
          ]
        }
      ],
      "source": [
        "def max_length(data):\n",
        "    maxlen=0\n",
        "    for sent in data:\n",
        "        maxlen=max(maxlen,len(sent))\n",
        "    return maxlen\n",
        "\n",
        "maxlen=max_length(xtokens)\n",
        "print(maxlen)"
      ]
    },
    {
      "cell_type": "code",
      "execution_count": 51,
      "metadata": {
        "colab": {
          "base_uri": "https://localhost:8080/"
        },
        "id": "c70ukcUsRVW8",
        "outputId": "a07d5fc8-109e-4a3c-84a2-84779b35c943"
      },
      "outputs": [
        {
          "output_type": "execute_result",
          "data": {
            "text/plain": [
              "array([[  654,  6433, 16066, ...,     0,     0,     0],\n",
              "       [  213,  1363,  1191, ...,     0,     0,     0],\n",
              "       [  136,    94,   510, ...,     0,     0,     0],\n",
              "       ...,\n",
              "       [  110,    38,    11, ...,     0,     0,     0],\n",
              "       [  528,   114, 10004, ...,     0,     0,     0],\n",
              "       [   26,    15,    10, ...,     0,     0,     0]], dtype=int32)"
            ]
          },
          "metadata": {},
          "execution_count": 51
        }
      ],
      "source": [
        "xtrain=pad_sequences(xtokens,maxlen=maxlen,padding='post',truncating='post')\n",
        "xtrain"
      ]
    },
    {
      "cell_type": "code",
      "execution_count": 52,
      "metadata": {
        "colab": {
          "base_uri": "https://localhost:8080/"
        },
        "id": "7WB0LQaCRVW9",
        "outputId": "ae6d21b6-5d24-42d1-9d83-c70c38941677"
      },
      "outputs": [
        {
          "output_type": "execute_result",
          "data": {
            "text/plain": [
              "array([[1., 0., 0., ..., 0., 0., 0.],\n",
              "       [0., 1., 0., ..., 0., 0., 0.],\n",
              "       [0., 0., 1., ..., 0., 0., 0.],\n",
              "       ...,\n",
              "       [0., 0., 1., ..., 0., 0., 0.],\n",
              "       [0., 0., 0., ..., 0., 0., 0.],\n",
              "       [0., 0., 0., ..., 0., 0., 0.]], dtype=float32)"
            ]
          },
          "metadata": {},
          "execution_count": 52
        }
      ],
      "source": [
        "ytrain=to_categorical(Y)\n",
        "ytrain"
      ]
    },
    {
      "cell_type": "code",
      "execution_count": null,
      "metadata": {
        "id": "QnYJZaqxRVW-"
      },
      "outputs": [],
      "source": [
        "embed_size=100\n",
        "embedding_matrix=np.zeros((len(word2index)+1,embed_size))\n",
        "print(len(embeddings))\n",
        "\n",
        "for word,i in word2index.items():\n",
        "    print(word,i)\n",
        "    try:\n",
        "      embed_vector=embeddings[word]\n",
        "      embedding_matrix[i]=embed_vector\n",
        "    except:\n",
        "      continue\n",
        "embedding_matrix"
      ]
    },
    {
      "cell_type": "code",
      "execution_count": 66,
      "metadata": {
        "id": "WS4pOahWRVW_"
      },
      "outputs": [],
      "source": [
        "model=Sequential()\n",
        "model.add(Embedding(input_dim=len(word2index)+1,output_dim=embed_size,\n",
        "                    input_length=maxlen,weights=[embedding_matrix],\n",
        "                    trainable=False))\n",
        "model.add(LSTM(units=96,return_sequences=True))\n",
        "model.add(LSTM(units=64))\n",
        "model.add(Dense(20,activation='softmax'))\n",
        "model.compile(optimizer='adam',loss='categorical_crossentropy',metrics=['accuracy'])\n"
      ]
    },
    {
      "cell_type": "code",
      "execution_count": 67,
      "metadata": {
        "colab": {
          "base_uri": "https://localhost:8080/"
        },
        "id": "EDD-iG_fRVXB",
        "outputId": "f42bf06c-4516-467d-f700-99243ab35cb9"
      },
      "outputs": [
        {
          "output_type": "stream",
          "name": "stdout",
          "text": [
            "Epoch 1/100\n",
            "2188/2188 [==============================] - 24s 9ms/step - loss: 2.6106 - accuracy: 0.2419\n",
            "Epoch 2/100\n",
            "2188/2188 [==============================] - 20s 9ms/step - loss: 2.4618 - accuracy: 0.2845\n",
            "Epoch 3/100\n",
            "2188/2188 [==============================] - 20s 9ms/step - loss: 2.3825 - accuracy: 0.3062\n",
            "Epoch 4/100\n",
            "2188/2188 [==============================] - 19s 9ms/step - loss: 2.3266 - accuracy: 0.3202\n",
            "Epoch 5/100\n",
            "2188/2188 [==============================] - 19s 9ms/step - loss: 2.2780 - accuracy: 0.3350\n",
            "Epoch 6/100\n",
            "2188/2188 [==============================] - 19s 8ms/step - loss: 2.2338 - accuracy: 0.3439\n",
            "Epoch 7/100\n",
            "2188/2188 [==============================] - 19s 9ms/step - loss: 2.1887 - accuracy: 0.3557\n",
            "Epoch 8/100\n",
            "2188/2188 [==============================] - 19s 9ms/step - loss: 2.1454 - accuracy: 0.3663\n",
            "Epoch 9/100\n",
            "2188/2188 [==============================] - 20s 9ms/step - loss: 2.1017 - accuracy: 0.3807\n",
            "Epoch 10/100\n",
            "2188/2188 [==============================] - 19s 9ms/step - loss: 2.0575 - accuracy: 0.3914\n",
            "Epoch 11/100\n",
            "2188/2188 [==============================] - 18s 8ms/step - loss: 2.0151 - accuracy: 0.4020\n",
            "Epoch 12/100\n",
            "2188/2188 [==============================] - 19s 9ms/step - loss: 1.9717 - accuracy: 0.4123\n",
            "Epoch 13/100\n",
            "2188/2188 [==============================] - 20s 9ms/step - loss: 1.9283 - accuracy: 0.4258\n",
            "Epoch 14/100\n",
            "2188/2188 [==============================] - 18s 8ms/step - loss: 1.8882 - accuracy: 0.4336\n",
            "Epoch 15/100\n",
            "2188/2188 [==============================] - 19s 9ms/step - loss: 1.8443 - accuracy: 0.4479\n",
            "Epoch 16/100\n",
            "2188/2188 [==============================] - 18s 8ms/step - loss: 1.8054 - accuracy: 0.4565\n",
            "Epoch 17/100\n",
            "2188/2188 [==============================] - 19s 8ms/step - loss: 1.7648 - accuracy: 0.4689\n",
            "Epoch 18/100\n",
            "2188/2188 [==============================] - 19s 9ms/step - loss: 1.7282 - accuracy: 0.4792\n",
            "Epoch 19/100\n",
            "2188/2188 [==============================] - 17s 8ms/step - loss: 1.6882 - accuracy: 0.4903\n",
            "Epoch 20/100\n",
            "2188/2188 [==============================] - 18s 8ms/step - loss: 1.6539 - accuracy: 0.4995\n",
            "Epoch 21/100\n",
            "2188/2188 [==============================] - 19s 9ms/step - loss: 1.6161 - accuracy: 0.5112\n",
            "Epoch 22/100\n",
            "2188/2188 [==============================] - 19s 9ms/step - loss: 1.5847 - accuracy: 0.5190\n",
            "Epoch 23/100\n",
            "2188/2188 [==============================] - 19s 9ms/step - loss: 1.5537 - accuracy: 0.5298\n",
            "Epoch 24/100\n",
            "2188/2188 [==============================] - 17s 8ms/step - loss: 1.5209 - accuracy: 0.5385\n",
            "Epoch 25/100\n",
            "2188/2188 [==============================] - 17s 8ms/step - loss: 1.4943 - accuracy: 0.5455\n",
            "Epoch 26/100\n",
            "2188/2188 [==============================] - 19s 9ms/step - loss: 1.4672 - accuracy: 0.5530\n",
            "Epoch 27/100\n",
            "2188/2188 [==============================] - 17s 8ms/step - loss: 1.4394 - accuracy: 0.5612\n",
            "Epoch 28/100\n",
            "2188/2188 [==============================] - 18s 8ms/step - loss: 1.4102 - accuracy: 0.5711\n",
            "Epoch 29/100\n",
            "2188/2188 [==============================] - 17s 8ms/step - loss: 1.3979 - accuracy: 0.5731\n",
            "Epoch 30/100\n",
            "2188/2188 [==============================] - 18s 8ms/step - loss: 1.3677 - accuracy: 0.5806\n",
            "Epoch 31/100\n",
            "2188/2188 [==============================] - 19s 9ms/step - loss: 1.3431 - accuracy: 0.5891\n",
            "Epoch 32/100\n",
            "2188/2188 [==============================] - 19s 9ms/step - loss: 1.3215 - accuracy: 0.5957\n",
            "Epoch 33/100\n",
            "2188/2188 [==============================] - 18s 8ms/step - loss: 1.3032 - accuracy: 0.6004\n",
            "Epoch 34/100\n",
            "2188/2188 [==============================] - 17s 8ms/step - loss: 1.2826 - accuracy: 0.6082\n",
            "Epoch 35/100\n",
            "2188/2188 [==============================] - 18s 8ms/step - loss: 1.2639 - accuracy: 0.6132\n",
            "Epoch 36/100\n",
            "2188/2188 [==============================] - 19s 9ms/step - loss: 1.2567 - accuracy: 0.6155\n",
            "Epoch 37/100\n",
            "2188/2188 [==============================] - 17s 8ms/step - loss: 1.2284 - accuracy: 0.6237\n",
            "Epoch 38/100\n",
            "2188/2188 [==============================] - 18s 8ms/step - loss: 1.2195 - accuracy: 0.6238\n",
            "Epoch 39/100\n",
            "2188/2188 [==============================] - 17s 8ms/step - loss: 1.1983 - accuracy: 0.6303\n",
            "Epoch 40/100\n",
            "2188/2188 [==============================] - 18s 8ms/step - loss: 1.1840 - accuracy: 0.6354\n",
            "Epoch 41/100\n",
            "2188/2188 [==============================] - 19s 9ms/step - loss: 1.1661 - accuracy: 0.6400\n",
            "Epoch 42/100\n",
            "2188/2188 [==============================] - 19s 9ms/step - loss: 1.1543 - accuracy: 0.6464\n",
            "Epoch 43/100\n",
            "2188/2188 [==============================] - 18s 8ms/step - loss: 1.1370 - accuracy: 0.6494\n",
            "Epoch 44/100\n",
            "2188/2188 [==============================] - 17s 8ms/step - loss: 1.1269 - accuracy: 0.6532\n",
            "Epoch 45/100\n",
            "2188/2188 [==============================] - 18s 8ms/step - loss: 1.1189 - accuracy: 0.6541\n",
            "Epoch 46/100\n",
            "2188/2188 [==============================] - 18s 8ms/step - loss: 1.1099 - accuracy: 0.6570\n",
            "Epoch 47/100\n",
            "2188/2188 [==============================] - 18s 8ms/step - loss: 1.0872 - accuracy: 0.6618\n",
            "Epoch 48/100\n",
            "2188/2188 [==============================] - 19s 9ms/step - loss: 1.0737 - accuracy: 0.6684\n",
            "Epoch 49/100\n",
            "2188/2188 [==============================] - 17s 8ms/step - loss: 1.0669 - accuracy: 0.6709\n",
            "Epoch 50/100\n",
            "2188/2188 [==============================] - 19s 8ms/step - loss: 1.0519 - accuracy: 0.6749\n",
            "Epoch 51/100\n",
            "2188/2188 [==============================] - 18s 8ms/step - loss: 1.0452 - accuracy: 0.6767\n",
            "Epoch 52/100\n",
            "2188/2188 [==============================] - 19s 9ms/step - loss: 1.0267 - accuracy: 0.6830\n",
            "Epoch 53/100\n",
            "2188/2188 [==============================] - 18s 8ms/step - loss: 1.0194 - accuracy: 0.6836\n",
            "Epoch 54/100\n",
            "2188/2188 [==============================] - 17s 8ms/step - loss: 1.0095 - accuracy: 0.6869\n",
            "Epoch 55/100\n",
            "2188/2188 [==============================] - 18s 8ms/step - loss: 1.0066 - accuracy: 0.6883\n",
            "Epoch 56/100\n",
            "2188/2188 [==============================] - 18s 8ms/step - loss: 0.9933 - accuracy: 0.6922\n",
            "Epoch 57/100\n",
            "2188/2188 [==============================] - 19s 8ms/step - loss: 1.0000 - accuracy: 0.6885\n",
            "Epoch 58/100\n",
            "2188/2188 [==============================] - 19s 9ms/step - loss: 0.9723 - accuracy: 0.6968\n",
            "Epoch 59/100\n",
            "2188/2188 [==============================] - 17s 8ms/step - loss: 0.9712 - accuracy: 0.6984\n",
            "Epoch 60/100\n",
            "2188/2188 [==============================] - 19s 9ms/step - loss: 0.9647 - accuracy: 0.6986\n",
            "Epoch 61/100\n",
            "2188/2188 [==============================] - 17s 8ms/step - loss: 0.9482 - accuracy: 0.7024\n",
            "Epoch 62/100\n",
            "2188/2188 [==============================] - 19s 8ms/step - loss: 0.9446 - accuracy: 0.7038\n",
            "Epoch 63/100\n",
            "2188/2188 [==============================] - 20s 9ms/step - loss: 0.9301 - accuracy: 0.7086\n",
            "Epoch 64/100\n",
            "2188/2188 [==============================] - 17s 8ms/step - loss: 0.9463 - accuracy: 0.7049\n",
            "Epoch 65/100\n",
            "2188/2188 [==============================] - 19s 9ms/step - loss: 0.9223 - accuracy: 0.7121\n",
            "Epoch 66/100\n",
            "2188/2188 [==============================] - 18s 8ms/step - loss: 0.9072 - accuracy: 0.7160\n",
            "Epoch 67/100\n",
            "2188/2188 [==============================] - 19s 9ms/step - loss: 0.9090 - accuracy: 0.7141\n",
            "Epoch 68/100\n",
            "2188/2188 [==============================] - 19s 9ms/step - loss: 0.9011 - accuracy: 0.7169\n",
            "Epoch 69/100\n",
            "2188/2188 [==============================] - 17s 8ms/step - loss: 0.8916 - accuracy: 0.7206\n",
            "Epoch 70/100\n",
            "2188/2188 [==============================] - 19s 9ms/step - loss: 0.8835 - accuracy: 0.7244\n",
            "Epoch 71/100\n",
            "2188/2188 [==============================] - 17s 8ms/step - loss: 0.8818 - accuracy: 0.7244\n",
            "Epoch 72/100\n",
            "2188/2188 [==============================] - 19s 9ms/step - loss: 0.8691 - accuracy: 0.7275\n",
            "Epoch 73/100\n",
            "2188/2188 [==============================] - 21s 9ms/step - loss: 0.8675 - accuracy: 0.7282\n",
            "Epoch 74/100\n",
            "2188/2188 [==============================] - 17s 8ms/step - loss: 0.8589 - accuracy: 0.7299\n",
            "Epoch 75/100\n",
            "2188/2188 [==============================] - 19s 9ms/step - loss: 0.8599 - accuracy: 0.7314\n",
            "Epoch 76/100\n",
            "2188/2188 [==============================] - 17s 8ms/step - loss: 0.8507 - accuracy: 0.7325\n",
            "Epoch 77/100\n",
            "2188/2188 [==============================] - 18s 8ms/step - loss: 0.8422 - accuracy: 0.7343\n",
            "Epoch 78/100\n",
            "2188/2188 [==============================] - 18s 8ms/step - loss: 0.8401 - accuracy: 0.7358\n",
            "Epoch 79/100\n",
            "2188/2188 [==============================] - 17s 8ms/step - loss: 0.8347 - accuracy: 0.7384\n",
            "Epoch 80/100\n",
            "2188/2188 [==============================] - 18s 8ms/step - loss: 0.8294 - accuracy: 0.7388\n",
            "Epoch 81/100\n",
            "2188/2188 [==============================] - 17s 8ms/step - loss: 0.8279 - accuracy: 0.7397\n",
            "Epoch 82/100\n",
            "2188/2188 [==============================] - 19s 9ms/step - loss: 0.8095 - accuracy: 0.7453\n",
            "Epoch 83/100\n",
            "2188/2188 [==============================] - 21s 10ms/step - loss: 0.8123 - accuracy: 0.7443\n",
            "Epoch 84/100\n",
            "2188/2188 [==============================] - 17s 8ms/step - loss: 0.8135 - accuracy: 0.7439\n",
            "Epoch 85/100\n",
            "2188/2188 [==============================] - 19s 9ms/step - loss: 0.8062 - accuracy: 0.7466\n",
            "Epoch 86/100\n",
            "2188/2188 [==============================] - 17s 8ms/step - loss: 0.7904 - accuracy: 0.7520\n",
            "Epoch 87/100\n",
            "2188/2188 [==============================] - 18s 8ms/step - loss: 0.8086 - accuracy: 0.7440\n",
            "Epoch 88/100\n",
            "2188/2188 [==============================] - 18s 8ms/step - loss: 0.7963 - accuracy: 0.7505\n",
            "Epoch 89/100\n",
            "2188/2188 [==============================] - 18s 8ms/step - loss: 0.7956 - accuracy: 0.7493\n",
            "Epoch 90/100\n",
            "2188/2188 [==============================] - 19s 9ms/step - loss: 0.7744 - accuracy: 0.7559\n",
            "Epoch 91/100\n",
            "2188/2188 [==============================] - 17s 8ms/step - loss: 0.7729 - accuracy: 0.7558\n",
            "Epoch 92/100\n",
            "2188/2188 [==============================] - 19s 8ms/step - loss: 0.7837 - accuracy: 0.7526\n",
            "Epoch 93/100\n",
            "2188/2188 [==============================] - 19s 9ms/step - loss: 0.7666 - accuracy: 0.7582\n",
            "Epoch 94/100\n",
            "2188/2188 [==============================] - 19s 8ms/step - loss: 0.7714 - accuracy: 0.7561\n",
            "Epoch 95/100\n",
            "2188/2188 [==============================] - 20s 9ms/step - loss: 0.7578 - accuracy: 0.7607\n",
            "Epoch 96/100\n",
            "2188/2188 [==============================] - 17s 8ms/step - loss: 0.7594 - accuracy: 0.7612\n",
            "Epoch 97/100\n",
            "2188/2188 [==============================] - 19s 9ms/step - loss: 0.7623 - accuracy: 0.7578\n",
            "Epoch 98/100\n",
            "2188/2188 [==============================] - 17s 8ms/step - loss: 0.7595 - accuracy: 0.7591\n",
            "Epoch 99/100\n",
            "2188/2188 [==============================] - 19s 9ms/step - loss: 0.7453 - accuracy: 0.7639\n",
            "Epoch 100/100\n",
            "2188/2188 [==============================] - 19s 9ms/step - loss: 0.7641 - accuracy: 0.7568\n"
          ]
        },
        {
          "output_type": "execute_result",
          "data": {
            "text/plain": [
              "<keras.src.callbacks.History at 0x7d9d66c7aec0>"
            ]
          },
          "metadata": {},
          "execution_count": 67
        }
      ],
      "source": [
        "model.fit(xtrain,ytrain,epochs=100)"
      ]
    },
    {
      "cell_type": "code",
      "source": [
        "data_test=pd.read_csv(r'Test.csv',header=None)\n",
        "data_test=data_test.drop(0,axis=1)\n",
        "data_test=data_test.drop(0,axis=0)\n",
        "data_test"
      ],
      "metadata": {
        "colab": {
          "base_uri": "https://localhost:8080/",
          "height": 423
        },
        "id": "REMEW819qMSo",
        "outputId": "cc0f7785-9fda-41d8-c8ce-0365773ddd71"
      },
      "execution_count": 68,
      "outputs": [
        {
          "output_type": "execute_result",
          "data": {
            "text/plain": [
              "           1                                                  2\n",
              "1          0  Thought this was cool...#Repost (get_repost)・・...\n",
              "2          1  Happy 4th! Corte madera parade. #everytownusa ...\n",
              "3          2  Luv. Or at least something close to it. @ Unio...\n",
              "4          3  There's a slice of pie under that whipped crea...\n",
              "5          5  #thankyou for your thank you We adore you both...\n",
              "...      ...                                                ...\n",
              "25954  29993  Rest In Peace, Nana. thanks for playing cards ...\n",
              "25955  29994  I jus wan EAT #chowtime #swt30 @ Hartford, Con...\n",
              "25956  29995  Playing Bloon SuperMonkey 2 #bloonsupermonkey2...\n",
              "25957  29998  Best Snow-cone I've EVER had!!! #bahamabucks #...\n",
              "25958  29999  You making my life better is just part of your...\n",
              "\n",
              "[25958 rows x 2 columns]"
            ],
            "text/html": [
              "\n",
              "  <div id=\"df-a8a2e3be-29b5-4b86-9b35-99c6f7519d48\" class=\"colab-df-container\">\n",
              "    <div>\n",
              "<style scoped>\n",
              "    .dataframe tbody tr th:only-of-type {\n",
              "        vertical-align: middle;\n",
              "    }\n",
              "\n",
              "    .dataframe tbody tr th {\n",
              "        vertical-align: top;\n",
              "    }\n",
              "\n",
              "    .dataframe thead th {\n",
              "        text-align: right;\n",
              "    }\n",
              "</style>\n",
              "<table border=\"1\" class=\"dataframe\">\n",
              "  <thead>\n",
              "    <tr style=\"text-align: right;\">\n",
              "      <th></th>\n",
              "      <th>1</th>\n",
              "      <th>2</th>\n",
              "    </tr>\n",
              "  </thead>\n",
              "  <tbody>\n",
              "    <tr>\n",
              "      <th>1</th>\n",
              "      <td>0</td>\n",
              "      <td>Thought this was cool...#Repost (get_repost)・・...</td>\n",
              "    </tr>\n",
              "    <tr>\n",
              "      <th>2</th>\n",
              "      <td>1</td>\n",
              "      <td>Happy 4th! Corte madera parade. #everytownusa ...</td>\n",
              "    </tr>\n",
              "    <tr>\n",
              "      <th>3</th>\n",
              "      <td>2</td>\n",
              "      <td>Luv. Or at least something close to it. @ Unio...</td>\n",
              "    </tr>\n",
              "    <tr>\n",
              "      <th>4</th>\n",
              "      <td>3</td>\n",
              "      <td>There's a slice of pie under that whipped crea...</td>\n",
              "    </tr>\n",
              "    <tr>\n",
              "      <th>5</th>\n",
              "      <td>5</td>\n",
              "      <td>#thankyou for your thank you We adore you both...</td>\n",
              "    </tr>\n",
              "    <tr>\n",
              "      <th>...</th>\n",
              "      <td>...</td>\n",
              "      <td>...</td>\n",
              "    </tr>\n",
              "    <tr>\n",
              "      <th>25954</th>\n",
              "      <td>29993</td>\n",
              "      <td>Rest In Peace, Nana. thanks for playing cards ...</td>\n",
              "    </tr>\n",
              "    <tr>\n",
              "      <th>25955</th>\n",
              "      <td>29994</td>\n",
              "      <td>I jus wan EAT #chowtime #swt30 @ Hartford, Con...</td>\n",
              "    </tr>\n",
              "    <tr>\n",
              "      <th>25956</th>\n",
              "      <td>29995</td>\n",
              "      <td>Playing Bloon SuperMonkey 2 #bloonsupermonkey2...</td>\n",
              "    </tr>\n",
              "    <tr>\n",
              "      <th>25957</th>\n",
              "      <td>29998</td>\n",
              "      <td>Best Snow-cone I've EVER had!!! #bahamabucks #...</td>\n",
              "    </tr>\n",
              "    <tr>\n",
              "      <th>25958</th>\n",
              "      <td>29999</td>\n",
              "      <td>You making my life better is just part of your...</td>\n",
              "    </tr>\n",
              "  </tbody>\n",
              "</table>\n",
              "<p>25958 rows × 2 columns</p>\n",
              "</div>\n",
              "    <div class=\"colab-df-buttons\">\n",
              "\n",
              "  <div class=\"colab-df-container\">\n",
              "    <button class=\"colab-df-convert\" onclick=\"convertToInteractive('df-a8a2e3be-29b5-4b86-9b35-99c6f7519d48')\"\n",
              "            title=\"Convert this dataframe to an interactive table.\"\n",
              "            style=\"display:none;\">\n",
              "\n",
              "  <svg xmlns=\"http://www.w3.org/2000/svg\" height=\"24px\" viewBox=\"0 -960 960 960\">\n",
              "    <path d=\"M120-120v-720h720v720H120Zm60-500h600v-160H180v160Zm220 220h160v-160H400v160Zm0 220h160v-160H400v160ZM180-400h160v-160H180v160Zm440 0h160v-160H620v160ZM180-180h160v-160H180v160Zm440 0h160v-160H620v160Z\"/>\n",
              "  </svg>\n",
              "    </button>\n",
              "\n",
              "  <style>\n",
              "    .colab-df-container {\n",
              "      display:flex;\n",
              "      gap: 12px;\n",
              "    }\n",
              "\n",
              "    .colab-df-convert {\n",
              "      background-color: #E8F0FE;\n",
              "      border: none;\n",
              "      border-radius: 50%;\n",
              "      cursor: pointer;\n",
              "      display: none;\n",
              "      fill: #1967D2;\n",
              "      height: 32px;\n",
              "      padding: 0 0 0 0;\n",
              "      width: 32px;\n",
              "    }\n",
              "\n",
              "    .colab-df-convert:hover {\n",
              "      background-color: #E2EBFA;\n",
              "      box-shadow: 0px 1px 2px rgba(60, 64, 67, 0.3), 0px 1px 3px 1px rgba(60, 64, 67, 0.15);\n",
              "      fill: #174EA6;\n",
              "    }\n",
              "\n",
              "    .colab-df-buttons div {\n",
              "      margin-bottom: 4px;\n",
              "    }\n",
              "\n",
              "    [theme=dark] .colab-df-convert {\n",
              "      background-color: #3B4455;\n",
              "      fill: #D2E3FC;\n",
              "    }\n",
              "\n",
              "    [theme=dark] .colab-df-convert:hover {\n",
              "      background-color: #434B5C;\n",
              "      box-shadow: 0px 1px 3px 1px rgba(0, 0, 0, 0.15);\n",
              "      filter: drop-shadow(0px 1px 2px rgba(0, 0, 0, 0.3));\n",
              "      fill: #FFFFFF;\n",
              "    }\n",
              "  </style>\n",
              "\n",
              "    <script>\n",
              "      const buttonEl =\n",
              "        document.querySelector('#df-a8a2e3be-29b5-4b86-9b35-99c6f7519d48 button.colab-df-convert');\n",
              "      buttonEl.style.display =\n",
              "        google.colab.kernel.accessAllowed ? 'block' : 'none';\n",
              "\n",
              "      async function convertToInteractive(key) {\n",
              "        const element = document.querySelector('#df-a8a2e3be-29b5-4b86-9b35-99c6f7519d48');\n",
              "        const dataTable =\n",
              "          await google.colab.kernel.invokeFunction('convertToInteractive',\n",
              "                                                    [key], {});\n",
              "        if (!dataTable) return;\n",
              "\n",
              "        const docLinkHtml = 'Like what you see? Visit the ' +\n",
              "          '<a target=\"_blank\" href=https://colab.research.google.com/notebooks/data_table.ipynb>data table notebook</a>'\n",
              "          + ' to learn more about interactive tables.';\n",
              "        element.innerHTML = '';\n",
              "        dataTable['output_type'] = 'display_data';\n",
              "        await google.colab.output.renderOutput(dataTable, element);\n",
              "        const docLink = document.createElement('div');\n",
              "        docLink.innerHTML = docLinkHtml;\n",
              "        element.appendChild(docLink);\n",
              "      }\n",
              "    </script>\n",
              "  </div>\n",
              "\n",
              "\n",
              "<div id=\"df-2aa063b2-47dd-41c4-901e-970a11f17d97\">\n",
              "  <button class=\"colab-df-quickchart\" onclick=\"quickchart('df-2aa063b2-47dd-41c4-901e-970a11f17d97')\"\n",
              "            title=\"Suggest charts.\"\n",
              "            style=\"display:none;\">\n",
              "\n",
              "<svg xmlns=\"http://www.w3.org/2000/svg\" height=\"24px\"viewBox=\"0 0 24 24\"\n",
              "     width=\"24px\">\n",
              "    <g>\n",
              "        <path d=\"M19 3H5c-1.1 0-2 .9-2 2v14c0 1.1.9 2 2 2h14c1.1 0 2-.9 2-2V5c0-1.1-.9-2-2-2zM9 17H7v-7h2v7zm4 0h-2V7h2v10zm4 0h-2v-4h2v4z\"/>\n",
              "    </g>\n",
              "</svg>\n",
              "  </button>\n",
              "\n",
              "<style>\n",
              "  .colab-df-quickchart {\n",
              "      --bg-color: #E8F0FE;\n",
              "      --fill-color: #1967D2;\n",
              "      --hover-bg-color: #E2EBFA;\n",
              "      --hover-fill-color: #174EA6;\n",
              "      --disabled-fill-color: #AAA;\n",
              "      --disabled-bg-color: #DDD;\n",
              "  }\n",
              "\n",
              "  [theme=dark] .colab-df-quickchart {\n",
              "      --bg-color: #3B4455;\n",
              "      --fill-color: #D2E3FC;\n",
              "      --hover-bg-color: #434B5C;\n",
              "      --hover-fill-color: #FFFFFF;\n",
              "      --disabled-bg-color: #3B4455;\n",
              "      --disabled-fill-color: #666;\n",
              "  }\n",
              "\n",
              "  .colab-df-quickchart {\n",
              "    background-color: var(--bg-color);\n",
              "    border: none;\n",
              "    border-radius: 50%;\n",
              "    cursor: pointer;\n",
              "    display: none;\n",
              "    fill: var(--fill-color);\n",
              "    height: 32px;\n",
              "    padding: 0;\n",
              "    width: 32px;\n",
              "  }\n",
              "\n",
              "  .colab-df-quickchart:hover {\n",
              "    background-color: var(--hover-bg-color);\n",
              "    box-shadow: 0 1px 2px rgba(60, 64, 67, 0.3), 0 1px 3px 1px rgba(60, 64, 67, 0.15);\n",
              "    fill: var(--button-hover-fill-color);\n",
              "  }\n",
              "\n",
              "  .colab-df-quickchart-complete:disabled,\n",
              "  .colab-df-quickchart-complete:disabled:hover {\n",
              "    background-color: var(--disabled-bg-color);\n",
              "    fill: var(--disabled-fill-color);\n",
              "    box-shadow: none;\n",
              "  }\n",
              "\n",
              "  .colab-df-spinner {\n",
              "    border: 2px solid var(--fill-color);\n",
              "    border-color: transparent;\n",
              "    border-bottom-color: var(--fill-color);\n",
              "    animation:\n",
              "      spin 1s steps(1) infinite;\n",
              "  }\n",
              "\n",
              "  @keyframes spin {\n",
              "    0% {\n",
              "      border-color: transparent;\n",
              "      border-bottom-color: var(--fill-color);\n",
              "      border-left-color: var(--fill-color);\n",
              "    }\n",
              "    20% {\n",
              "      border-color: transparent;\n",
              "      border-left-color: var(--fill-color);\n",
              "      border-top-color: var(--fill-color);\n",
              "    }\n",
              "    30% {\n",
              "      border-color: transparent;\n",
              "      border-left-color: var(--fill-color);\n",
              "      border-top-color: var(--fill-color);\n",
              "      border-right-color: var(--fill-color);\n",
              "    }\n",
              "    40% {\n",
              "      border-color: transparent;\n",
              "      border-right-color: var(--fill-color);\n",
              "      border-top-color: var(--fill-color);\n",
              "    }\n",
              "    60% {\n",
              "      border-color: transparent;\n",
              "      border-right-color: var(--fill-color);\n",
              "    }\n",
              "    80% {\n",
              "      border-color: transparent;\n",
              "      border-right-color: var(--fill-color);\n",
              "      border-bottom-color: var(--fill-color);\n",
              "    }\n",
              "    90% {\n",
              "      border-color: transparent;\n",
              "      border-bottom-color: var(--fill-color);\n",
              "    }\n",
              "  }\n",
              "</style>\n",
              "\n",
              "  <script>\n",
              "    async function quickchart(key) {\n",
              "      const quickchartButtonEl =\n",
              "        document.querySelector('#' + key + ' button');\n",
              "      quickchartButtonEl.disabled = true;  // To prevent multiple clicks.\n",
              "      quickchartButtonEl.classList.add('colab-df-spinner');\n",
              "      try {\n",
              "        const charts = await google.colab.kernel.invokeFunction(\n",
              "            'suggestCharts', [key], {});\n",
              "      } catch (error) {\n",
              "        console.error('Error during call to suggestCharts:', error);\n",
              "      }\n",
              "      quickchartButtonEl.classList.remove('colab-df-spinner');\n",
              "      quickchartButtonEl.classList.add('colab-df-quickchart-complete');\n",
              "    }\n",
              "    (() => {\n",
              "      let quickchartButtonEl =\n",
              "        document.querySelector('#df-2aa063b2-47dd-41c4-901e-970a11f17d97 button');\n",
              "      quickchartButtonEl.style.display =\n",
              "        google.colab.kernel.accessAllowed ? 'block' : 'none';\n",
              "    })();\n",
              "  </script>\n",
              "</div>\n",
              "    </div>\n",
              "  </div>\n"
            ]
          },
          "metadata": {},
          "execution_count": 68
        }
      ]
    },
    {
      "cell_type": "code",
      "source": [
        "X_test=data_test[1].values\n",
        "y_test=data_test[2].values\n",
        "Y_test=[]\n",
        "for item in y_test:\n",
        "  Y_test.append(int(item))\n",
        "Y_test=np.asarray(Y_test)\n",
        "Y_test"
      ],
      "metadata": {
        "colab": {
          "base_uri": "https://localhost:8080/",
          "height": 253
        },
        "id": "Btcyxyh2qUnv",
        "outputId": "f65869f6-e9bf-4477-e4dc-2bfa94157309"
      },
      "execution_count": 69,
      "outputs": [
        {
          "output_type": "error",
          "ename": "ValueError",
          "evalue": "ignored",
          "traceback": [
            "\u001b[0;31m---------------------------------------------------------------------------\u001b[0m",
            "\u001b[0;31mValueError\u001b[0m                                Traceback (most recent call last)",
            "\u001b[0;32m<ipython-input-69-83465ed16a3f>\u001b[0m in \u001b[0;36m<cell line: 4>\u001b[0;34m()\u001b[0m\n\u001b[1;32m      3\u001b[0m \u001b[0mY_test\u001b[0m\u001b[0;34m=\u001b[0m\u001b[0;34m[\u001b[0m\u001b[0;34m]\u001b[0m\u001b[0;34m\u001b[0m\u001b[0;34m\u001b[0m\u001b[0m\n\u001b[1;32m      4\u001b[0m \u001b[0;32mfor\u001b[0m \u001b[0mitem\u001b[0m \u001b[0;32min\u001b[0m \u001b[0my_test\u001b[0m\u001b[0;34m:\u001b[0m\u001b[0;34m\u001b[0m\u001b[0;34m\u001b[0m\u001b[0m\n\u001b[0;32m----> 5\u001b[0;31m     \u001b[0mY_test\u001b[0m\u001b[0;34m.\u001b[0m\u001b[0mappend\u001b[0m\u001b[0;34m(\u001b[0m\u001b[0mint\u001b[0m\u001b[0;34m(\u001b[0m\u001b[0mitem\u001b[0m\u001b[0;34m)\u001b[0m\u001b[0;34m)\u001b[0m\u001b[0;34m\u001b[0m\u001b[0;34m\u001b[0m\u001b[0m\n\u001b[0m\u001b[1;32m      6\u001b[0m \u001b[0mY_test\u001b[0m\u001b[0;34m=\u001b[0m\u001b[0mnp\u001b[0m\u001b[0;34m.\u001b[0m\u001b[0masarray\u001b[0m\u001b[0;34m(\u001b[0m\u001b[0mY_test\u001b[0m\u001b[0;34m)\u001b[0m\u001b[0;34m\u001b[0m\u001b[0;34m\u001b[0m\u001b[0m\n\u001b[1;32m      7\u001b[0m \u001b[0mY_test\u001b[0m\u001b[0;34m\u001b[0m\u001b[0;34m\u001b[0m\u001b[0m\n",
            "\u001b[0;31mValueError\u001b[0m: invalid literal for int() with base 10: 'Thought this was cool...#Repost (get_repost)・・・Colorview. by shay_images…\\n'"
          ]
        }
      ]
    },
    {
      "cell_type": "code",
      "source": [
        "tokenizer_test=Tokenizer()\n",
        "tokenizer_test.fit_on_texts(X_test)\n",
        "word2index_test=tokenizer_test.word_index\n",
        "\n",
        "x_testtokens=tokenizer_test.texts_to_sequences(X_test)"
      ],
      "metadata": {
        "id": "t8XzKF9xrxYS"
      },
      "execution_count": null,
      "outputs": []
    },
    {
      "cell_type": "code",
      "source": [
        "maxlen_test=max_length(x_testtokens)\n",
        "print(maxlen_test)"
      ],
      "metadata": {
        "id": "Ukwv61Hfr503"
      },
      "execution_count": null,
      "outputs": []
    },
    {
      "cell_type": "code",
      "source": [
        "xtest=pad_sequences(x_testtokens,maxlen=maxlen,padding='post',truncating='post')\n",
        "ytest=to_categorical(Y_test)"
      ],
      "metadata": {
        "id": "RSt7yiPfvw-K"
      },
      "execution_count": null,
      "outputs": []
    },
    {
      "cell_type": "code",
      "source": [
        "embedding_matrix=np.zeros((len(word2index)+1,embed_size))\n",
        "\n",
        "for word,i in word2index_test.items():\n",
        "    print(word,i)\n",
        "    try:\n",
        "      embed_vector=embeddings[word]\n",
        "      embedding_matrix[i]=embed_vector\n",
        "    except:\n",
        "      continue"
      ],
      "metadata": {
        "id": "YXkXYcfQvknd"
      },
      "execution_count": null,
      "outputs": []
    },
    {
      "cell_type": "code",
      "source": [
        "from sklearn.metrics import accuracy_score\n",
        "\n",
        "predictions=model.predict(xtest)\n",
        "accuracy = accuracy_score(ytest, predictions)"
      ],
      "metadata": {
        "id": "Y7S5FoW4wU-s"
      },
      "execution_count": null,
      "outputs": []
    },
    {
      "cell_type": "code",
      "execution_count": 99,
      "metadata": {
        "colab": {
          "base_uri": "https://localhost:8080/"
        },
        "id": "UMPIylHIRVXC",
        "outputId": "28d4b74c-4d16-4289-e787-4163e8db360b"
      },
      "outputs": [
        {
          "output_type": "stream",
          "name": "stdout",
          "text": [
            "1/1 [==============================] - 0s 21ms/step\n",
            "Yes i'm fine 😍\n"
          ]
        }
      ],
      "source": [
        "test=['Hello, how are you',\"Are you good\",\"lets go to restaurant\"]\n",
        "test_seq=tokenizer.texts_to_sequences(test)\n",
        "xtest=pad_sequences(test_seq,maxlen=maxlen,padding='post',truncating=\"post\")\n",
        "\n",
        "y_pred=model.predict(xtest)\n",
        "y_pred=np.argmax(y_pred,axis=1)\n",
        "\n",
        "for i in range(len(test)):\n",
        "    print(test[i],label_to_emoji(y_pred[i]))"
      ]
    },
    {
      "cell_type": "code",
      "execution_count": 71,
      "metadata": {
        "colab": {
          "base_uri": "https://localhost:8080/"
        },
        "id": "RXq6V37fRVXC",
        "outputId": "d5c5b840-ef47-4818-8b7a-bd9c4dfa1573"
      },
      "outputs": [
        {
          "output_type": "stream",
          "name": "stdout",
          "text": [
            "Hello, how are you 😍\n",
            "Are you good ❤\n",
            "lets go to restaurant 😂\n"
          ]
        }
      ],
      "source": [
        "# for i in range(len(test)):\n",
        "#     print(test[i],label_to_emoji(y_pred[i]))"
      ]
    },
    {
      "cell_type": "code",
      "execution_count": null,
      "metadata": {
        "id": "rgDbuyTIRVXD"
      },
      "outputs": [],
      "source": []
    }
  ],
  "metadata": {
    "kernelspec": {
      "display_name": "Python 3",
      "name": "python3"
    },
    "language_info": {
      "codemirror_mode": {
        "name": "ipython",
        "version": 3
      },
      "file_extension": ".py",
      "mimetype": "text/x-python",
      "name": "python",
      "nbconvert_exporter": "python",
      "pygments_lexer": "ipython3",
      "version": "3.10.1"
    },
    "colab": {
      "provenance": [],
      "gpuType": "T4"
    },
    "accelerator": "GPU"
  },
  "nbformat": 4,
  "nbformat_minor": 0
}